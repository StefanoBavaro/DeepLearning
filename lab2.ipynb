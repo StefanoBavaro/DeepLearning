{
 "cells": [
  {
   "cell_type": "markdown",
   "metadata": {},
   "source": [
    "Students:\n",
    "\n",
    "- ...\n",
    "- ...\n",
    "- ...\n",
    "\n",
    "# Deep Learning - Lab Exercise 2\n",
    "\n",
    "**WARNING:** you must have finished the first exercise before this one as you will re-use parts of the code.\n",
    "\n",
    "In the first lab exercise, we built a simple linear classifier.\n",
    "Although it can give reasonable results on the MNIST dataset (~92.5% of accuracy), deeper neural networks can achieve more the 99% accuracy.\n",
    "However, it can quickly become really impracical to explicitly code forward and backward passes.\n",
    "Hence, it is useful to rely on an auto-diff library where we specify the forward pass once, and the backward pass is automatically deduced from the computational graph structure.\n",
    "\n",
    "In this lab exercise, we will build a small and simple auto-diff lib that mimics the autograd mechanism from Pytorch (of course, we will simplify a lot!)\n"
   ]
  },
  {
   "cell_type": "code",
   "execution_count": 1,
   "metadata": {},
   "outputs": [],
   "source": [
    "# import libs that we will use\n",
    "import os\n",
    "import numpy as np\n",
    "import matplotlib.pyplot as plt\n",
    "import math\n",
    "\n",
    "# To load the data we will use the script of Gaetan Marceau Caron\n",
    "# You can download it from the course webiste and move it to the same directory that contains this ipynb file\n",
    "import dataset_loader\n",
    "\n",
    "%matplotlib inline"
   ]
  },
  {
   "cell_type": "markdown",
   "metadata": {},
   "source": [
    "# Data"
   ]
  },
  {
   "cell_type": "code",
   "execution_count": 2,
   "metadata": {},
   "outputs": [],
   "source": [
    "# Download mnist dataset \n",
    "if(\"mnist.pkl.gz\" not in os.listdir(\".\")):\n",
    "    # this link doesn't work any more,\n",
    "    # seach on google for the file \"mnist.pkl.gz\"\n",
    "    # and download it\n",
    "    !wget http://deeplearning.net/data/mnist/mnist.pkl.gz\n",
    "\n",
    "# if you have it somewhere else, you can comment the lines above\n",
    "# and overwrite the path below\n",
    "mnist_path = \"./mnist.pkl.gz\""
   ]
  },
  {
   "cell_type": "code",
   "execution_count": 3,
   "metadata": {},
   "outputs": [],
   "source": [
    "# load the 3 splits\n",
    "train_data, dev_data, test_data = dataset_loader.load_mnist(mnist_path)"
   ]
  },
  {
   "cell_type": "code",
   "execution_count": 4,
   "metadata": {},
   "outputs": [
    {
     "name": "stdout",
     "output_type": "stream",
     "text": [
      "label: 6\n"
     ]
    },
    {
     "data": {
      "text/plain": [
       "<matplotlib.image.AxesImage at 0x7f438c4676d0>"
      ]
     },
     "execution_count": 4,
     "metadata": {},
     "output_type": "execute_result"
    },
    {
     "data": {
      "image/png": "[encoded data removed]",
      "text/plain": [
       "<Figure size 640x480 with 1 Axes>"
      ]
     },
     "metadata": {},
     "output_type": "display_data"
    }
   ],
   "source": [
    "index = 900\n",
    "label = train_data[1][index]\n",
    "picture = train_data[0][index]\n",
    "\n",
    "print(\"label: %i\" % label)\n",
    "plt.imshow(picture.reshape(28,28), cmap='Greys')"
   ]
  },
  {
   "cell_type": "markdown",
   "metadata": {},
   "source": [
    "# Computation nodes\n",
    "\n",
    "Instead of directly manipulating numpy arrays, we will manipulate abstraction that contains:\n",
    "- a value (i.e. a numpy array)\n",
    "- a bool indicating if we wish to compute the gradient with respect to the value\n",
    "- the gradient with respect to the value\n",
    "- the operation to call during backpropagation\n",
    "\n",
    "There will be two kind of nodes:\n",
    "- Tensor: a generic computation node\n",
    "- Parameter: a computation node that is used to store parameters of the network. Parameters are always leaf nodes, i.e. they cannot be build from other computation nodes.\n",
    "\n",
    "Our implementation of the backward pass will be really simple and incorrect in the general case (i.e. won't work with computation graph with loops).\n",
    "We will just apply the derivative function for a given tensor and then call the ones of its antecedents, recursively.\n",
    "This simple algorithm is good enough for this exercise.\n",
    "\n",
    "Note that a real implementation of backprop will store temporary values during forward that can be used during backward to improve computation speed. We do not do that here."
   ]
  },
  {
   "cell_type": "code",
   "execution_count": 5,
   "metadata": {},
   "outputs": [],
   "source": [
    "class Tensor:\n",
    "    def __init__(self, data, require_grad=False):\n",
    "        # test type of data: should be np array\n",
    "        if isinstance(data, float):\n",
    "            data = np.array([data,])\n",
    "        if type(data) != np.ndarray:\n",
    "            raise RuntimeError(\"Input should be a numpy array\")\n",
    "\n",
    "        # store data for this tensor\n",
    "        self.data = data\n",
    "        self.require_grad = require_grad\n",
    "        \n",
    "        # this values should be set to enable autograd!\n",
    "        self.gradient = None\n",
    "        self.d = None\n",
    "        self.backptr = None\n",
    "        \n",
    "    def zero_grad(self):\n",
    "        \"\"\"\n",
    "        Set the gradient of thie tensor to 0\n",
    "        \"\"\"\n",
    "        if self.require_grad:\n",
    "            self.gradient = np.zeros_like(self.data)\n",
    "            \n",
    "    def accumulate_gradient(self, gradient):\n",
    "        \"\"\"\n",
    "        Accumulte gradient for this tensor\n",
    "        \"\"\"\n",
    "        if gradient.shape != self.data.shape:\n",
    "            print(gradient, self.data)\n",
    "            print(gradient.shape, self.data.shape)\n",
    "            raise RuntimeError(\"Invalid gradient dimension\")\n",
    "\n",
    "        if self.gradient is None:\n",
    "            self.gradient = np.copy(gradient)\n",
    "        else:\n",
    "            self.gradient += gradient\n",
    "            \n",
    "    def backward(self, g=None):\n",
    "        \"\"\"\n",
    "        The backward pass!\n",
    "        If g != None, then g is the gradient for the current node.\n",
    "        i.e. g will be != None only for the loss output.\n",
    "        \n",
    "        You should call the function stored in self.d with correct arguments,\n",
    "        and then recursively call the backward methods of tensors in the backptr list if:\n",
    "        1. they require a gradient\n",
    "        2. they are of type Tensor: check with isinstance(o, Tensor)\n",
    "        \"\"\"\n",
    "        if not self.require_grad:  # stop right now if this node does not require a gradient\n",
    "            return\n",
    "        \n",
    "        if g is not None:\n",
    "            if isinstance(g, (float, int)):\n",
    "                g = np.array([g])\n",
    "            if type(g) != np.ndarray:\n",
    "                raise RuntimeError(\"Gradient should be a numpy array\")\n",
    "            if g.shape != self.data.shape:\n",
    "                raise RuntimeError(\"Gradient of different size than the value!\")\n",
    "                \n",
    "            self.gradient = g\n",
    "\n",
    "        if self.d is not None:\n",
    "            self.d(self.backptr, self.gradient)\n",
    "\n",
    "        if self.backptr is not None:\n",
    "            for o in self.backptr:\n",
    "                if isinstance(o, Tensor) and not isinstance(o, Parameter):\n",
    "                    if o.require_grad:\n",
    "                        o.backward()\n",
    "    \n",
    "    \n",
    "class Parameter(Tensor):\n",
    "    \"\"\"\n",
    "    This class will be used to store parameters of the network only!\n",
    "    \"\"\"\n",
    "    def __init__(self, data, name=\"unamed\"):\n",
    "        super().__init__(data, require_grad=True)\n",
    "        self.name = name\n",
    "        \n",
    "    def backward(self):\n",
    "        raise RuntimeError(\"You cannot backprop from a Parameter node\")"
   ]
  },
  {
   "cell_type": "markdown",
   "metadata": {},
   "source": [
    "# Functions\n",
    "\n",
    "Functions manipulate tensors and build the required information for autograd.\n",
    "A function returns a Tensor that should have require_grad = True if at least of the arguments require a gradient."
   ]
  },
  {
   "cell_type": "code",
   "execution_count": 6,
   "metadata": {},
   "outputs": [],
   "source": [
    "def any_require_grad(l):\n",
    "    \"\"\"\n",
    "    Input:\n",
    "    - l: an iterable (e.g. a list)\n",
    "    Ouput:\n",
    "    - True if any tensor in the input requires a gradient\n",
    "    \"\"\"\n",
    "    return any(t.require_grad for t in l)"
   ]
  },
  {
   "cell_type": "code",
   "execution_count": 7,
   "metadata": {},
   "outputs": [],
   "source": [
    "# Here is an exemple with the ReLU\n",
    "def relu(x):\n",
    "    v = np.maximum(0, x.data)\n",
    "    \n",
    "    output = Tensor(v, require_grad=x.require_grad)\n",
    "    output.d = backward_relu\n",
    "    output.backptr = [x]\n",
    "    \n",
    "    return output\n",
    "\n",
    "def backward_relu(backptr, g):\n",
    "    x, = backptr\n",
    "    \n",
    "    # the gradient is accumulated in the arguments only if required\n",
    "    if x.require_grad:\n",
    "        x.accumulate_gradient(g * (x.data > 0))"
   ]
  },
  {
   "cell_type": "code",
   "execution_count": 8,
   "metadata": {},
   "outputs": [],
   "source": [
    "def tanh(x):\n",
    "    v = np.tanh(x.data)\n",
    "    \n",
    "    output = Tensor(v, require_grad=x.require_grad)\n",
    "    output.d = backward_tanh\n",
    "    output.backptr = [x]\n",
    "    \n",
    "    return output\n",
    "\n",
    "def backward_tanh(backptr, g):\n",
    "    x, = backptr\n",
    "    \n",
    "    if x.require_grad:\n",
    "        x.accumulate_gradient(g * (1 - np.tanh(x.data)**2))"
   ]
  },
  {
   "cell_type": "markdown",
   "metadata": {},
   "source": [
    "Next, we implement the affine transform operation.\n",
    "You can reuse the code from the first lab exercise, with one major difference: you have to compute the gradient with respect to x too!"
   ]
  },
  {
   "cell_type": "code",
   "execution_count": 9,
   "metadata": {},
   "outputs": [],
   "source": [
    "def affine_transform(W, b, x):\n",
    "    v = W.data@x.data + b.data\n",
    "    \n",
    "    output = Tensor(v, require_grad=any_require_grad([W, b, x]))\n",
    "    output.d = backward_affine_transform\n",
    "    output.backptr = [W, b, x]\n",
    "    \n",
    "    \n",
    "    return output\n",
    "\n",
    "def backward_affine_transform(backptr, g):\n",
    "    W, b, x = backptr\n",
    "    \n",
    "    # the gradient is accumulated in the arguments only if required\n",
    "    if W.require_grad:\n",
    "        if isinstance(x, Tensor):\n",
    "            x_val = x.data\n",
    "        else:\n",
    "            x_val = x\n",
    "        \n",
    "        if len(x_val.shape) == 1:\n",
    "            x_val = x_val.reshape(-1, 1)\n",
    "\n",
    "        if len(g.shape) == 1:\n",
    "            g = g.reshape(-1, 1)\n",
    "            \n",
    "        W.accumulate_gradient(g@x_val.T)\n",
    "\n",
    "    if b.require_grad:\n",
    "        b.accumulate_gradient(g)\n",
    "    if isinstance(x, Tensor) and x.require_grad:\n",
    "        # (10, 100) (10,) (100,) (10,)\n",
    "        #print(W.data.shape, b.data.shape, x.data.shape, g.shape)\n",
    "        x.accumulate_gradient(W.data.T@g)"
   ]
  },
  {
   "cell_type": "code",
   "execution_count": 10,
   "metadata": {},
   "outputs": [],
   "source": [
    "# we use an underscore because this function does not manipulate tensors:\n",
    "# it is exactly the same as in the previous exercise\n",
    "def _softmax(x):\n",
    "    b = np.max(x)\n",
    "    e = np.exp(x-b)\n",
    "    return e/np.sum(e)\n",
    "\n",
    "def nll(x, gold):\n",
    "    data = -x.data.flatten()[gold] + np.log(np.sum(np.exp(x.data.flatten())))\n",
    "\n",
    "    output = Tensor(data, require_grad=x.require_grad)\n",
    "    output.d = backward_nll\n",
    "    output.backptr = [x, gold]\n",
    "\n",
    "    return output\n",
    "\n",
    "\n",
    "def backward_nll(backptr, g):\n",
    "    x, gold = backptr\n",
    "\n",
    "    if x.require_grad:\n",
    "        x.accumulate_gradient(g*(-np.eye(len(x.data.flatten()))[gold]+_softmax(x.data.flatten())).reshape(-1, 1))\n",
    "    "
   ]
  },
  {
   "cell_type": "markdown",
   "metadata": {},
   "source": [
    "# Module\n",
    "\n",
    "Neural networks or parts of neural networks will be stored in Modules.\n",
    "They implement method to retrieve all parameters of the network and subnetwork."
   ]
  },
  {
   "cell_type": "code",
   "execution_count": 11,
   "metadata": {},
   "outputs": [],
   "source": [
    "class Module:\n",
    "    def __init__(self):\n",
    "        pass\n",
    "        \n",
    "    def parameters(self):\n",
    "        ret = []\n",
    "        for name in dir(self):\n",
    "            o = self.__getattribute__(name)\n",
    "\n",
    "            if type(o) is Parameter:\n",
    "                ret.append(o)\n",
    "            if isinstance(o, Module) or isinstance(o, ModuleList):\n",
    "                ret.extend(o.parameters())\n",
    "        return ret\n",
    "    \n",
    "    def __call__(self, x):\n",
    "        return self.forward(x)\n",
    "\n",
    "# if you want to store a list of Parameters or Module,\n",
    "# you must store them in a ModuleList instead of a python list,\n",
    "# in order to collect the parameters correctly\n",
    "class ModuleList(list):\n",
    "    def parameters(self):\n",
    "        ret = []\n",
    "        for m in self:\n",
    "            if type(m) is Parameter:\n",
    "                ret.append(m)\n",
    "            elif isinstance(m, Module) or isinstance(m, ModuleList):\n",
    "                ret.extend(m.parameters())\n",
    "        return ret"
   ]
  },
  {
   "cell_type": "markdown",
   "metadata": {},
   "source": [
    "# Initialization and optimization"
   ]
  },
  {
   "cell_type": "code",
   "execution_count": 12,
   "metadata": {},
   "outputs": [],
   "source": [
    "def zero_init(b):\n",
    "    b[:] = 0.\n",
    "\n",
    "def glorot_init(W):\n",
    "    W[:] = np.random.uniform(-np.sqrt(6. / (W.shape[0] + W.shape[1])), np.sqrt(6. / (W.shape[0] + W.shape[1])), W.shape)\n",
    "    \n",
    "# Look at slides for the formula!\n",
    "def kaiming_init(W):\n",
    "    W[:] = np.random.uniform(-np.sqrt(6. / W.shape[1]), np.sqrt(6. / W.shape[1]), W.shape)"
   ]
  },
  {
   "cell_type": "code",
   "execution_count": 13,
   "metadata": {},
   "outputs": [],
   "source": [
    "# simple gradient descent optimizer\n",
    "class SGD:\n",
    "    def __init__(self, params, lr=0.1):\n",
    "        self.params = params\n",
    "        self.lr = lr\n",
    "        \n",
    "    def step(self):\n",
    "        for p in self.params:\n",
    "            p.data[:] = p.data - self.lr * p.gradient\n",
    "        \n",
    "    def zero_grad(self):\n",
    "        for p in self.params:\n",
    "            p.zero_grad()"
   ]
  },
  {
   "cell_type": "markdown",
   "metadata": {},
   "source": [
    "# Networks and training loop\n",
    "\n",
    "We first create a simple linear classifier, similar to the first lab exercise."
   ]
  },
  {
   "cell_type": "code",
   "execution_count": 14,
   "metadata": {},
   "outputs": [],
   "source": [
    "class LinearNetwork(Module):\n",
    "    def __init__(self, dim_input, dim_output):\n",
    "        # build the parameters\n",
    "        self.W = Parameter(np.ndarray((dim_output, dim_input)), name=\"W\")\n",
    "        self.b = Parameter(np.ndarray((dim_output,1)), name=\"b\")\n",
    "        \n",
    "        self.init_parameters()\n",
    "        \n",
    "    def init_parameters(self):\n",
    "        # init parameters of the network (i.e W and b)\n",
    "        glorot_init(self.W.data)\n",
    "        zero_init(self.b.data)\n",
    "        \n",
    "    def forward(self, x):\n",
    "        return  affine_transform(self.W, self.b, x)"
   ]
  },
  {
   "cell_type": "markdown",
   "metadata": {},
   "source": [
    "We will train several neural networks.\n",
    "Therefore, we encapsulate the training loop in a function.\n",
    "\n",
    "**warning**: you have to call optimizer.zero_grad() before each backward pass to reinitialize the gradient of the parameters!"
   ]
  },
  {
   "cell_type": "code",
   "execution_count": 15,
   "metadata": {},
   "outputs": [],
   "source": [
    "def training_loop(network, optimizer, train_data, dev_data, n_epochs=10):\n",
    "    \n",
    "    for epoch in range(n_epochs):\n",
    "        print('EPOCH:', epoch+1)\n",
    "        train_loss = 0\n",
    "        train_good = 0\n",
    "        for x, y in zip(*train_data):\n",
    "            output = network(x.reshape(-1, 1))\n",
    "            loss = nll(output, y)\n",
    "            loss.backward(1)\n",
    "            optimizer.step()\n",
    "            optimizer.zero_grad()\n",
    "\n",
    "            train_loss += loss.data\n",
    "            if np.argmax(output.data) == y:\n",
    "                train_good += 1\n",
    "        print('Training loss', train_loss/len(train_data[1]))\n",
    "        print('Training accuracy', train_good/len(train_data[1]))\n",
    "\n",
    "        dev_loss = 0\n",
    "        dev_good = 0\n",
    "        for x, y in zip(*dev_data):\n",
    "            output = network(x.reshape(-1,1))\n",
    "            loss = nll(output, y)\n",
    "            dev_loss += loss.data\n",
    "            if np.argmax(output.data) == y:\n",
    "                dev_good += 1\n",
    "        print('Validation loss', dev_loss/len(dev_data[1]))\n",
    "        print('Validation accuracy', dev_good/len(dev_data[1]))\n",
    "    "
   ]
  },
  {
   "cell_type": "code",
   "execution_count": 16,
   "metadata": {},
   "outputs": [
    {
     "name": "stdout",
     "output_type": "stream",
     "text": [
      "EPOCH: 1\n",
      "Training loss [0.37627126]\n",
      "Training accuracy 0.89166\n",
      "Validation loss [0.29061843]\n",
      "Validation accuracy 0.918\n",
      "EPOCH: 2\n",
      "Training loss [0.31034856]\n",
      "Training accuracy 0.91136\n",
      "Validation loss [0.27786517]\n",
      "Validation accuracy 0.923\n",
      "EPOCH: 3\n",
      "Training loss [0.29790647]\n",
      "Training accuracy 0.9146\n",
      "Validation loss [0.27342691]\n",
      "Validation accuracy 0.9241\n",
      "EPOCH: 4\n",
      "Training loss [0.29079467]\n",
      "Training accuracy 0.91684\n",
      "Validation loss [0.27139515]\n",
      "Validation accuracy 0.9242\n",
      "EPOCH: 5\n",
      "Training loss [0.28586415]\n",
      "Training accuracy 0.91866\n",
      "Validation loss [0.27039511]\n",
      "Validation accuracy 0.9255\n"
     ]
    }
   ],
   "source": [
    "dim_input = 28*28\n",
    "dim_output = 10\n",
    "\n",
    "network = LinearNetwork(dim_input, dim_output)\n",
    "optimizer = SGD(network.parameters(), 0.01)\n",
    "\n",
    "training_loop(network, optimizer, train_data, dev_data, n_epochs=5)"
   ]
  },
  {
   "cell_type": "markdown",
   "metadata": {},
   "source": [
    "After you finished the linear network, you can move to a deep network!"
   ]
  },
  {
   "cell_type": "code",
   "execution_count": 17,
   "metadata": {},
   "outputs": [],
   "source": [
    "class DeepNetwork(Module):\n",
    "    def __init__(self, dim_input, dim_output, hidden_dim, n_layers, tanh=False):\n",
    "\n",
    "        self.input_proj = self.give_weight_matrix(dim_input, hidden_dim, 0)\n",
    "        self.input_bias = self.give_bias(hidden_dim, 0)\n",
    "\n",
    "        self.W = ModuleList([self.give_weight_matrix(hidden_dim, hidden_dim, i) for i in range(1, n_layers)])\n",
    "        self.b = ModuleList([self.give_bias(hidden_dim, i) for i in range(1, n_layers)])\n",
    "        \n",
    "        \n",
    "        self.output_proj = self.give_weight_matrix(hidden_dim, dim_output, n_layers)\n",
    "        self.output_bias = self.give_bias(dim_output, n_layers)\n",
    "        \n",
    "        self.init_parameters()\n",
    "\n",
    "        \n",
    "    def init_parameters(self):\n",
    "        zero_init(self.input_bias.data)\n",
    "        zero_init(self.output_bias.data)\n",
    "        for b in self.b:\n",
    "            zero_init(b.data)\n",
    "\n",
    "        glorot_init(self.input_proj.data)\n",
    "        glorot_init(self.output_proj.data)\n",
    "        for W in self.W:\n",
    "            glorot_init(W.data)\n",
    "\n",
    "    def forward(self, x):\n",
    "        x = affine_transform(self.input_proj, self.input_bias, x)\n",
    "        x = relu(x)\n",
    "        for W, b in zip(self.W, self.b):\n",
    "            x = affine_transform(W, b, x)\n",
    "            x = relu(x)\n",
    "        x = affine_transform(self.output_proj, self.output_bias, x)\n",
    "        return x\n",
    "\n",
    "    @staticmethod\n",
    "    def give_weight_matrix(dim_input, dim_output, n):\n",
    "        W = Parameter(np.ndarray((dim_output, dim_input)), name=f\"W_{n}\")\n",
    "        return W\n",
    "    \n",
    "    @staticmethod\n",
    "    def give_bias(dim, n):\n",
    "        W = Parameter(np.ndarray((dim, 1)), name=f\"b_{n}\")\n",
    "        return W"
   ]
  },
  {
   "cell_type": "code",
   "execution_count": 18,
   "metadata": {},
   "outputs": [
    {
     "name": "stdout",
     "output_type": "stream",
     "text": [
      "EPOCH: 1\n",
      "Training loss [0.24918737]\n",
      "Training accuracy 0.9231\n",
      "Validation loss [0.1269965]\n",
      "Validation accuracy 0.9628\n",
      "EPOCH: 2\n",
      "Training loss [0.11580073]\n",
      "Training accuracy 0.96506\n",
      "Validation loss [0.11242589]\n",
      "Validation accuracy 0.9686\n",
      "EPOCH: 3\n",
      "Training loss [0.08125067]\n",
      "Training accuracy 0.97512\n",
      "Validation loss [0.10460794]\n",
      "Validation accuracy 0.9718\n",
      "EPOCH: 4\n",
      "Training loss [0.06294522]\n",
      "Training accuracy 0.98072\n",
      "Validation loss [0.11897714]\n",
      "Validation accuracy 0.9671\n",
      "EPOCH: 5\n",
      "Training loss [0.0538841]\n",
      "Training accuracy 0.98232\n",
      "Validation loss [0.11334468]\n",
      "Validation accuracy 0.9702\n"
     ]
    }
   ],
   "source": [
    "dim_input = 28*28\n",
    "dim_output = 10\n",
    "\n",
    "network = DeepNetwork(dim_input, dim_output, 100, 2)\n",
    "optimizer = SGD(network.parameters(), 0.01)\n",
    "\n",
    "training_loop(network, optimizer, train_data, dev_data, n_epochs=5)"
   ]
  },
  {
   "cell_type": "markdown",
   "metadata": {},
   "source": [
    "## Bonus\n",
    "\n",
    "You can try to implement a momentum SGD optimizer! Note that you have to keep track of the velocity for each parameter in the optimizer.\n"
   ]
  },
  {
   "cell_type": "code",
   "execution_count": 26,
   "metadata": {},
   "outputs": [],
   "source": [
    "class MomentumSGD:\n",
    "    def __init__(self, params, lr=0.1, momentum=0.1):\n",
    "        self.params = params\n",
    "        self.velocities = [np.zeros_like(p.data) for p in params]\n",
    "        self.lr = lr\n",
    "        self.momentum = momentum\n",
    "\n",
    "    def step(self):\n",
    "        for p, velocity in zip(self.params, self.velocities):\n",
    "            velocity[:] = self.momentum * velocity + p.gradient\n",
    "            p.data[:] = p.data - self.lr * velocity\n",
    "        \n",
    "    def zero_grad(self):\n",
    "        for p in self.params:\n",
    "            p.zero_grad()"
   ]
  },
  {
   "cell_type": "code",
   "execution_count": 27,
   "metadata": {},
   "outputs": [
    {
     "name": "stdout",
     "output_type": "stream",
     "text": [
      "EPOCH: 1\n",
      "Training loss [0.24787806]\n",
      "Training accuracy 0.92328\n",
      "Validation loss [0.1285585]\n",
      "Validation accuracy 0.9619\n",
      "EPOCH: 2\n",
      "Training loss [0.11850497]\n",
      "Training accuracy 0.9645\n",
      "Validation loss [0.11971927]\n",
      "Validation accuracy 0.9645\n",
      "EPOCH: 3\n",
      "Training loss [0.08214556]\n",
      "Training accuracy 0.97446\n",
      "Validation loss [0.11153357]\n",
      "Validation accuracy 0.9683\n",
      "EPOCH: 4\n",
      "Training loss [0.06429762]\n",
      "Training accuracy 0.98004\n",
      "Validation loss [0.117301]\n",
      "Validation accuracy 0.9681\n",
      "EPOCH: 5\n",
      "Training loss [0.05352035]\n",
      "Training accuracy 0.98256\n",
      "Validation loss [0.12524923]\n",
      "Validation accuracy 0.968\n"
     ]
    }
   ],
   "source": [
    "dim_input = 28*28\n",
    "dim_output = 10\n",
    "\n",
    "network = DeepNetwork(dim_input, dim_output, 100, 2)\n",
    "optimizer = MomentumSGD(network.parameters(), 0.01, momentum=0.1)\n",
    "\n",
    "training_loop(network, optimizer, train_data, dev_data, n_epochs=5)"
   ]
  }
 ],
 "metadata": {
  "kernelspec": {
   "display_name": "Python 3 (ipykernel)",
   "language": "python",
   "name": "python3"
  },
  "language_info": {
   "codemirror_mode": {
    "name": "ipython",
    "version": 3
   },
   "file_extension": ".py",
   "mimetype": "text/x-python",
   "name": "python",
   "nbconvert_exporter": "python",
   "pygments_lexer": "ipython3",
   "version": "3.10.6"
  }
 },
 "nbformat": 4,
 "nbformat_minor": 2
}
